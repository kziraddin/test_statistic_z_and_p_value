{
 "cells": [
  {
   "cell_type": "code",
   "execution_count": 4,
   "id": "aa8ab6d4",
   "metadata": {},
   "outputs": [
    {
     "name": "stdout",
     "output_type": "stream",
     "text": [
      "Test Statistic (z): 1.9078784028339184\n",
      "p-value: 0.02820346713660049\n"
     ]
    }
   ],
   "source": [
    "'''A factory that manufactures bolts is performing a quality control experiment. \n",
    "Each object should have a length of no more than 17\n",
    "centimeters. The factory believes that the length of the bolts exceeds this value \n",
    "and measures the length of 91 bolts. The sample mean bolt length was 17.05\n",
    "centimeters. The population standard deviation is known to be sigma = 0.25centimeters. \n",
    "What is the test statistic z? What is the p value?'''\n",
    "\n",
    "\n",
    "import scipy.stats as stats\n",
    "import math\n",
    "\n",
    "# Given data\n",
    "sample_mean = 17.05  # Sample mean bolt length\n",
    "population_mean = 17  # Hypothesized population mean\n",
    "population_stddev = 0.25  # Population standard deviation\n",
    "sample_size =91  # Sample size\n",
    "\n",
    "# Calculate the test statistic (z)\n",
    "z = (sample_mean - population_mean) / (population_stddev / math.sqrt(sample_size))\n",
    "\n",
    "# Calculate the two-tailed p-value\n",
    "p_value = (1 - stats.norm.cdf(abs(z)))  # Using the cumulative distribution function (CDF)\n",
    "\n",
    "print(\"Test Statistic (z):\", z)\n",
    "print(\"p-value:\", p_value)"
   ]
  },
  {
   "cell_type": "code",
   "execution_count": null,
   "id": "507a0f49",
   "metadata": {},
   "outputs": [],
   "source": []
  }
 ],
 "metadata": {
  "kernelspec": {
   "display_name": "Python 3 (ipykernel)",
   "language": "python",
   "name": "python3"
  },
  "language_info": {
   "codemirror_mode": {
    "name": "ipython",
    "version": 3
   },
   "file_extension": ".py",
   "mimetype": "text/x-python",
   "name": "python",
   "nbconvert_exporter": "python",
   "pygments_lexer": "ipython3",
   "version": "3.9.12"
  }
 },
 "nbformat": 4,
 "nbformat_minor": 5
}
